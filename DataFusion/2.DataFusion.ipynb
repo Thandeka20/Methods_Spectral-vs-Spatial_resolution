{
 "cells": [
  {
   "cell_type": "markdown",
   "id": "aaf1fbf0-2c89-4e2f-b958-ae8eb5f7c561",
   "metadata": {},
   "source": [
    "### Import packages"
   ]
  },
  {
   "cell_type": "code",
   "execution_count": 1,
   "id": "cfd6bf28-4e05-41cd-a238-35e86f723343",
   "metadata": {},
   "outputs": [],
   "source": [
    "# Import necessary packages\n",
    "import numpy as np\n",
    "import rasterio\n",
    "import pywt\n",
    "from skimage.transform import resize"
   ]
  },
  {
   "cell_type": "markdown",
   "id": "28082915-b619-45c4-94d8-f70a8b8b7c5f",
   "metadata": {},
   "source": [
    "### Load EMIT PCA and Sentinel-2 "
   ]
  },
  {
   "cell_type": "code",
   "execution_count": 2,
   "id": "40575783-4da7-464c-8885-6a4b54ab99d9",
   "metadata": {},
   "outputs": [
    {
     "name": "stdout",
     "output_type": "stream",
     "text": [
      "Number of bands: 16\n",
      "Number of bands: 12\n"
     ]
    }
   ],
   "source": [
    "# Load the images (10m Sentinel-2 and 60m original image)\n",
    "s2_10m_path = r'C:\\Users\\User\\Documents\\DataFusion\\DataFusion\\S2_AddedIndices\\uMzimvubuCatchment_datafusion.tif'\n",
    "emit_pca_60m_path = r'C:\\Users\\User\\Documents\\DataFusion\\DataFusion\\30092014_PCA\\10012024PCA_image.tif'\n",
    "\n",
    "with rasterio.open(s2_10m_path) as src_10m:\n",
    "    bands_10m = src_10m.read()  # Read Sentinel-2 bands\n",
    "    meta_10m = src_10m.meta.copy()  # Copy metadata for future use\n",
    "    print(f\"Number of bands: {bands_10m.shape[0]}\")\n",
    "\n",
    "with rasterio.open(emit_pca_60m_path) as src_60m:\n",
    "    bands_60m = src_60m.read()  # Read original 60m bands\n",
    "    meta_60m = src_60m.meta.copy()  # Metadata from the 60m image\n",
    "    print(f\"Number of bands: {bands_60m.shape[0]}\")\n"
   ]
  },
  {
   "cell_type": "markdown",
   "id": "2a4dc492-a424-41a6-97c9-67e565b8ec4f",
   "metadata": {},
   "source": [
    "### Data fusion\n",
    "#### This code cell fuses Sentinel-2 and 12 PCA-reduced EMIT banfs and resizes the 60m EMIT to 10m"
   ]
  },
  {
   "cell_type": "code",
   "execution_count": 3,
   "id": "539ec974-1f48-4e45-a2c5-7f8fc7b17417",
   "metadata": {},
   "outputs": [],
   "source": [
    "# Create a new array to hold the fused bands (16 from Sentinel-2 + 12 from EMIT PCA)\n",
    "num_bands_s2 = bands_10m.shape[0]  # 16 bands and indices from Sentinel-2\n",
    "num_bands_emit = bands_60m.shape[0]  # 12 bands from EMIT PCA\n",
    "fused_bands = np.zeros((num_bands_s2 + num_bands_emit, bands_10m.shape[1], bands_10m.shape[2]), dtype=np.float32)\n",
    "\n",
    "# Copy Sentinel-2 bands to the fused array\n",
    "fused_bands[:num_bands_s2, :, :] = bands_10m  # First 16 bands are from Sentinel-2\n",
    "\n",
    "# Loop through remaining EMIT bands and resize to match the 10m resolution\n",
    "for i in range(num_bands_emit):\n",
    "    # Resize each EMIT band to 10m resolution\n",
    "    resized_emit_band = resize(bands_60m[i], (bands_10m.shape[1], bands_10m.shape[2]), order=1, mode='reflect', anti_aliasing=True)\n",
    "    # Add the resized EMIT band to the fused bands\n",
    "    fused_bands[num_bands_s2 + i, :, :] = resized_emit_band\n"
   ]
  },
  {
   "cell_type": "markdown",
   "id": "103e7325-7469-4ebc-9f15-b572bf7c8808",
   "metadata": {},
   "source": [
    "### Saves the fused image"
   ]
  },
  {
   "cell_type": "code",
   "execution_count": 4,
   "id": "289ee629-5251-4067-b532-b6d4430ada16",
   "metadata": {},
   "outputs": [
    {
     "name": "stdout",
     "output_type": "stream",
     "text": [
      "Fused image saved to C:\\Users\\User\\Documents\\DataFusion\\DataFusion\\SimpleFusion\\FusedImage\\fused_image.tif\n"
     ]
    }
   ],
   "source": [
    "# Update metadata to reflect the new fused bands\n",
    "meta_fused = {\n",
    "    'driver': 'GTiff',\n",
    "    'count': fused_bands.shape[0],  # Total of 239 bands\n",
    "    'dtype': 'float32',\n",
    "    'height': fused_bands.shape[1],\n",
    "    'width': fused_bands.shape[2],\n",
    "    'crs': meta_10m['crs'],  # Use CRS from Sentinel-2\n",
    "    'transform': meta_10m['transform'],  # Use transform from Sentinel-2\n",
    "    'compress': 'lzw',  # Optional compression\n",
    "    'tiled': True,      # Use tiled storage\n",
    "    'BIGTIFF': 'YES'   # Enable BigTIFF\n",
    "}\n",
    "\n",
    "# Save the fused image\n",
    "output_filepath = r'C:\\Users\\User\\Documents\\DataFusion\\DataFusion\\SimpleFusion\\FusedImage\\fused_image.tif'\n",
    "with rasterio.open(output_filepath, 'w', **meta_fused) as dst:\n",
    "    dst.write(fused_bands)\n",
    "\n",
    "print(f'Fused image saved to {output_filepath}')\n"
   ]
  }
 ],
 "metadata": {
  "kernelspec": {
   "display_name": "Python 3 (ipykernel)",
   "language": "python",
   "name": "python3"
  },
  "language_info": {
   "codemirror_mode": {
    "name": "ipython",
    "version": 3
   },
   "file_extension": ".py",
   "mimetype": "text/x-python",
   "name": "python",
   "nbconvert_exporter": "python",
   "pygments_lexer": "ipython3",
   "version": "3.12.4"
  }
 },
 "nbformat": 4,
 "nbformat_minor": 5
}
