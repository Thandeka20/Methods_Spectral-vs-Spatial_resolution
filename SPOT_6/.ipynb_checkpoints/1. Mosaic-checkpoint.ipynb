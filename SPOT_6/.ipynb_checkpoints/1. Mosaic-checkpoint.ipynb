{
 "cells": [
  {
   "cell_type": "code",
   "execution_count": 8,
   "id": "4d6d2251-4b9b-4fa4-a9bd-2014ed11467a",
   "metadata": {},
   "outputs": [],
   "source": [
    "#import required functions\n",
    "import os\n",
    "import rasterio\n",
    "from rasterio.merge import merge\n",
    "from rasterio.enums import Resampling\n",
    "from rasterio.plot import show\n",
    "from rasterio.mask import mask\n",
    "from rasterio.plot import show\n",
    "import matplotlib.pyplot as plt\n",
    "from rasterio.io import MemoryFile\n",
    "import geopandas as gpd\n",
    "from sklearn.ensemble import RandomForestClassifier\n",
    "import numpy as np"
   ]
  },
  {
   "cell_type": "markdown",
   "id": "f50d2f71-dfa0-4f2a-9ea8-4303d4f64095",
   "metadata": {},
   "source": [
    "### SPOT MOSAIC"
   ]
  },
  {
   "cell_type": "code",
   "execution_count": 9,
   "id": "cdd2772c-bced-4e45-8044-155d34c6024c",
   "metadata": {},
   "outputs": [
    {
     "name": "stdout",
     "output_type": "stream",
     "text": [
      "Found 12 GeoTIFF files.\n",
      "['C:\\\\Users\\\\SkosanaT\\\\OneDrive - Stellenbosch University\\\\MAPWAPS\\\\DataChapter1\\\\Data\\\\Imagery\\\\uMzimAOI\\\\SPOT6\\\\SPOT6_20180925_0747021t8y3qzjbin7l_2\\\\IMG_SPOT6_MS_201711290738261_ORT_SPOT6_20180925_0747021t8y3qzjbin7l_1_R2C1.TIF', 'C:\\\\Users\\\\SkosanaT\\\\OneDrive - Stellenbosch University\\\\MAPWAPS\\\\DataChapter1\\\\Data\\\\Imagery\\\\uMzimAOI\\\\SPOT6\\\\SPOT6_20180925_0747021t8y3qzjbin7l_2\\\\IMG_SPOT6_MS_201711290738261_ORT_SPOT6_20180925_0747021t8y3qzjbin7l_1_R2C2.TIF', 'C:\\\\Users\\\\SkosanaT\\\\OneDrive - Stellenbosch University\\\\MAPWAPS\\\\DataChapter1\\\\Data\\\\Imagery\\\\uMzimAOI\\\\SPOT6\\\\SPOT6_20180925_0747021t8y3qzjbin7l_2\\\\IMG_SPOT6_MS_201711290738261_ORT_SPOT6_20180925_0747021t8y3qzjbin7l_1_R2C3.TIF', 'C:\\\\Users\\\\SkosanaT\\\\OneDrive - Stellenbosch University\\\\MAPWAPS\\\\DataChapter1\\\\Data\\\\Imagery\\\\uMzimAOI\\\\SPOT6\\\\SPOT6_20180925_0747021t8y3qzjbin7l_2\\\\IMG_SPOT6_MS_201711290738261_ORT_SPOT6_20180925_0747021t8y3qzjbin7l_1_R2C4.TIF', 'C:\\\\Users\\\\SkosanaT\\\\OneDrive - Stellenbosch University\\\\MAPWAPS\\\\DataChapter1\\\\Data\\\\Imagery\\\\uMzimAOI\\\\SPOT6\\\\SPOT6_20180925_0747021t8y3qzjbin7l_2\\\\IMG_SPOT6_MS_201711290738261_ORT_SPOT6_20180925_0747021t8y3qzjbin7l_1_R3C1.TIF', 'C:\\\\Users\\\\SkosanaT\\\\OneDrive - Stellenbosch University\\\\MAPWAPS\\\\DataChapter1\\\\Data\\\\Imagery\\\\uMzimAOI\\\\SPOT6\\\\SPOT6_20180925_0747021t8y3qzjbin7l_2\\\\IMG_SPOT6_MS_201711290738261_ORT_SPOT6_20180925_0747021t8y3qzjbin7l_1_R3C2.TIF', 'C:\\\\Users\\\\SkosanaT\\\\OneDrive - Stellenbosch University\\\\MAPWAPS\\\\DataChapter1\\\\Data\\\\Imagery\\\\uMzimAOI\\\\SPOT6\\\\SPOT6_20180925_0747021t8y3qzjbin7l_2\\\\IMG_SPOT6_MS_201711290738261_ORT_SPOT6_20180925_0747021t8y3qzjbin7l_1_R3C3.TIF', 'C:\\\\Users\\\\SkosanaT\\\\OneDrive - Stellenbosch University\\\\MAPWAPS\\\\DataChapter1\\\\Data\\\\Imagery\\\\uMzimAOI\\\\SPOT6\\\\SPOT6_20180925_0747021t8y3qzjbin7l_2\\\\IMG_SPOT6_MS_201711290738261_ORT_SPOT6_20180925_0747021t8y3qzjbin7l_1_R3C4.TIF', 'C:\\\\Users\\\\SkosanaT\\\\OneDrive - Stellenbosch University\\\\MAPWAPS\\\\DataChapter1\\\\Data\\\\Imagery\\\\uMzimAOI\\\\SPOT6\\\\SPOT6_20180925_0747021t8y3qzjbin7l_2\\\\IMG_SPOT6_MS_201711290738261_ORT_SPOT6_20180925_0747021t8y3qzjbin7l_1_R4C1.TIF', 'C:\\\\Users\\\\SkosanaT\\\\OneDrive - Stellenbosch University\\\\MAPWAPS\\\\DataChapter1\\\\Data\\\\Imagery\\\\uMzimAOI\\\\SPOT6\\\\SPOT6_20180925_0747021t8y3qzjbin7l_2\\\\IMG_SPOT6_MS_201711290738261_ORT_SPOT6_20180925_0747021t8y3qzjbin7l_1_R4C2.TIF', 'C:\\\\Users\\\\SkosanaT\\\\OneDrive - Stellenbosch University\\\\MAPWAPS\\\\DataChapter1\\\\Data\\\\Imagery\\\\uMzimAOI\\\\SPOT6\\\\SPOT6_20180925_0747021t8y3qzjbin7l_2\\\\IMG_SPOT6_MS_201711290738261_ORT_SPOT6_20180925_0747021t8y3qzjbin7l_1_R4C3.TIF', 'C:\\\\Users\\\\SkosanaT\\\\OneDrive - Stellenbosch University\\\\MAPWAPS\\\\DataChapter1\\\\Data\\\\Imagery\\\\uMzimAOI\\\\SPOT6\\\\SPOT6_20180925_0747021t8y3qzjbin7l_2\\\\IMG_SPOT6_MS_201711290738261_ORT_SPOT6_20180925_0747021t8y3qzjbin7l_1_R4C4.TIF']\n",
      "Successfully opened 12 GeoTIFF files for mosaicking.\n",
      "Mosaic created successfully with priority given to the first available pixels.\n",
      "Mosaic clipped to ROI successfully.\n",
      "Clipped mosaic written to file successfully.\n",
      "Progress done\n"
     ]
    }
   ],
   "source": [
    "\n",
    "\n",
    "# Input directory and ROI shapefile\n",
    "root_folder = r'C:\\Users\\SkosanaT\\OneDrive - Stellenbosch University\\MAPWAPS\\DataChapter1\\Data\\Imagery\\uMzimAOI\\SPOT6\\SPOT6_20180925_0747021t8y3qzjbin7l_2'\n",
    "roi_path = r'C:\\Users\\SkosanaT\\OneDrive - Stellenbosch University\\MAPWAPS\\DataChapter1\\uMzi_ROI\\roi\\ROI.shp'\n",
    "\n",
    "# List all GeoTIFF files in the directory and its subdirectories\n",
    "tif_files = []\n",
    "for root, dirs, files in os.walk(root_folder):\n",
    "    for file in files:\n",
    "        if file.lower().endswith('.tif'):\n",
    "            tif_files.append(os.path.join(root, file))\n",
    "\n",
    "print(f\"Found {len(tif_files)} GeoTIFF files.\")\n",
    "print(tif_files)\n",
    "\n",
    "# Open all GeoTIFF files with error handling\n",
    "src_files_to_mosaic = []\n",
    "for tif in tif_files:\n",
    "    try:\n",
    "        src = rasterio.open(tif)\n",
    "        src_files_to_mosaic.append(src)\n",
    "    except rasterio.errors.RasterioIOError as e:\n",
    "        print(f\"Error opening {tif}: {e}\")\n",
    "\n",
    "print(f\"Successfully opened {len(src_files_to_mosaic)} GeoTIFF files for mosaicking.\")\n",
    "\n",
    "# Check if there are any files to mosaic\n",
    "if src_files_to_mosaic:\n",
    "    # Sequentially merge the GeoTIFF files, prioritizing the first available pixels\n",
    "    mosaic, out_trans = merge(src_files_to_mosaic, method='first')\n",
    "    print(\"Mosaic created successfully with priority given to the first available pixels.\")\n",
    "\n",
    "    # Create an in-memory Rasterio dataset from the mosaic array\n",
    "    with MemoryFile() as memfile:\n",
    "        with memfile.open(\n",
    "            driver='GTiff',\n",
    "            height=mosaic.shape[1],\n",
    "            width=mosaic.shape[2],\n",
    "            count=mosaic.shape[0],\n",
    "            dtype=mosaic.dtype,\n",
    "            crs=src_files_to_mosaic[0].crs,\n",
    "            transform=out_trans\n",
    "        ) as dataset:\n",
    "            dataset.write(mosaic)\n",
    "\n",
    "            # Clip the mosaic using the ROI\n",
    "            roi = gpd.read_file(roi_path)\n",
    "            shapes = [feature[\"geometry\"] for feature in roi.__geo_interface__[\"features\"]]\n",
    "            mosaic_clipped, out_trans_clipped = mask(dataset=dataset, shapes=shapes, crop=True)\n",
    "            print(\"Mosaic clipped to ROI successfully.\")\n",
    "\n",
    "            # Output file path for the clipped mosaic\n",
    "            output_path = r'C:\\Users\\SkosanaT\\OneDrive - Stellenbosch University\\MAPWAPS\\DataChapter1\\uMzi_ROI\\data\\SPOT_6\\SPOT_6_MOSAIC\\SPOT6_mosaic.TIF'\n",
    "\n",
    "            # Update metadata for the clipped mosaic\n",
    "            out_meta_clipped = dataset.meta.copy()\n",
    "            out_meta_clipped.update({\n",
    "                \"driver\": \"GTiff\",\n",
    "                \"height\": mosaic_clipped.shape[1],\n",
    "                \"width\": mosaic_clipped.shape[2],\n",
    "                \"transform\": out_trans_clipped,\n",
    "                \"crs\": src_files_to_mosaic[0].crs\n",
    "            })\n",
    "\n",
    "            # Write the clipped mosaic to a new GeoTIFF file\n",
    "            with rasterio.open(output_path, \"w\", **out_meta_clipped) as dest:\n",
    "                dest.write(mosaic_clipped)\n",
    "            print(\"Clipped mosaic written to file successfully.\")\n",
    "else:\n",
    "    print(\"No valid TIFF files found to mosaic.\")\n",
    "\n",
    "print('Progress done')\n"
   ]
  }
 ],
 "metadata": {
  "kernelspec": {
   "display_name": "Python 3 (ipykernel)",
   "language": "python",
   "name": "python3"
  },
  "language_info": {
   "codemirror_mode": {
    "name": "ipython",
    "version": 3
   },
   "file_extension": ".py",
   "mimetype": "text/x-python",
   "name": "python",
   "nbconvert_exporter": "python",
   "pygments_lexer": "ipython3",
   "version": "3.12.3"
  }
 },
 "nbformat": 4,
 "nbformat_minor": 5
}
