{
 "cells": [
  {
   "cell_type": "code",
   "execution_count": 5,
   "id": "0af7e8d0-a87f-4e3c-b5de-e5ac77a5ab14",
   "metadata": {},
   "outputs": [
    {
     "name": "stdout",
     "output_type": "stream",
     "text": [
      "NoData value from metadata: nan\n",
      "Unique values in the sample band: [0.00059393 0.00063297 0.00065447 ... 0.24777088 0.25613317        nan]\n",
      "NoData value (nan) is not explicitly present in the band.\n"
     ]
    }
   ],
   "source": [
    "import rasterio\n",
    "import numpy as np\n",
    "\n",
    "# Define the path to your TIFF file\n",
    "tiff_file_path = r'C:\\Users\\SkosanaT\\OneDrive - Stellenbosch University\\MAPWAPS\\DataChapter1\\uMzi_ROI\\data\\EMIT\\03092024_EMIT\\AddedIndices\\emit_with_indices.tif'\n",
    "\n",
    "# Open the TIFF file using rasterio\n",
    "with rasterio.open(tiff_file_path) as src:\n",
    "    \n",
    "    # Get NoData value from metadata\n",
    "    nodata_value = src.nodata\n",
    "    \n",
    "    # Print out NoData value\n",
    "    print(\"NoData value from metadata:\", nodata_value)\n",
    "    \n",
    "    # Read a sample band (e.g., the first band)\n",
    "    sample_band = src.read(1)\n",
    "    \n",
    "    # Print out some unique values from the sample band to see if NoData is represented\n",
    "    unique_values = np.unique(sample_band)\n",
    "    print(\"Unique values in the sample band:\", unique_values)\n",
    "    \n",
    "    # Check if NoData value is present in the unique values\n",
    "    if nodata_value in unique_values:\n",
    "        print(f\"NoData value ({nodata_value}) is present in the band.\")\n",
    "    else:\n",
    "        print(f\"NoData value ({nodata_value}) is not explicitly present in the band.\")\n"
   ]
  },
  {
   "cell_type": "code",
   "execution_count": 10,
   "id": "a3ef68ca-44f2-4230-8906-22605d881375",
   "metadata": {},
   "outputs": [
    {
     "ename": "NameError",
     "evalue": "name 'nan' is not defined",
     "output_type": "error",
     "traceback": [
      "\u001b[1;31m---------------------------------------------------------------------------\u001b[0m",
      "\u001b[1;31mNameError\u001b[0m                                 Traceback (most recent call last)",
      "Cell \u001b[1;32mIn[10], line 6\u001b[0m\n\u001b[0;32m      1\u001b[0m \u001b[38;5;28;01mimport\u001b[39;00m \u001b[38;5;21;01mnumpy\u001b[39;00m \u001b[38;5;28;01mas\u001b[39;00m \u001b[38;5;21;01mnp\u001b[39;00m\n\u001b[0;32m      3\u001b[0m \u001b[38;5;66;03m# Assuming 'sample_band' is the array read from the TIFF file\u001b[39;00m\n\u001b[0;32m      4\u001b[0m \u001b[38;5;66;03m# Replace 'None' with the actual NoData value if it's numeric\u001b[39;00m\n\u001b[1;32m----> 6\u001b[0m nodata_value \u001b[38;5;241m=\u001b[39m nan  \u001b[38;5;66;03m# Replace with the actual NoData value if found\u001b[39;00m\n\u001b[0;32m      8\u001b[0m \u001b[38;5;66;03m# Check for NoData values in the array\u001b[39;00m\n\u001b[0;32m      9\u001b[0m \u001b[38;5;28;01mif\u001b[39;00m nodata_value \u001b[38;5;129;01mis\u001b[39;00m \u001b[38;5;129;01mnot\u001b[39;00m nan:\n",
      "\u001b[1;31mNameError\u001b[0m: name 'nan' is not defined"
     ]
    }
   ],
   "source": [
    "import numpy as np\n",
    "\n",
    "# Assuming 'sample_band' is the array read from the TIFF file\n",
    "# Replace 'None' with the actual NoData value if it's numeric\n",
    "\n",
    "nodata_value = nan  # Replace with the actual NoData value if found\n",
    "\n",
    "# Check for NoData values in the array\n",
    "if nodata_value is not nan:\n",
    "    nodata_mask = (sample_band == nodata_value)\n",
    "else:\n",
    "    nodata_mask = np.equal(sample_band, nan)\n",
    "\n",
    "# Print out statistics about the NoData mask\n",
    "print(\"NoData mask unique values:\", np.unique(nodata_mask))\n",
    "print(\"Number of NoData pixels:\", np.sum(nodata_mask))\n"
   ]
  },
  {
   "cell_type": "code",
   "execution_count": null,
   "id": "5fe13346-cc01-40f8-b2fb-7e96ba2c9de4",
   "metadata": {},
   "outputs": [],
   "source": []
  }
 ],
 "metadata": {
  "kernelspec": {
   "display_name": "Python 3 (ipykernel)",
   "language": "python",
   "name": "python3"
  },
  "language_info": {
   "codemirror_mode": {
    "name": "ipython",
    "version": 3
   },
   "file_extension": ".py",
   "mimetype": "text/x-python",
   "name": "python",
   "nbconvert_exporter": "python",
   "pygments_lexer": "ipython3",
   "version": "3.12.3"
  }
 },
 "nbformat": 4,
 "nbformat_minor": 5
}
