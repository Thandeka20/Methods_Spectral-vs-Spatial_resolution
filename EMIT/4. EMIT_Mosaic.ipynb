{
 "cells": [
  {
   "cell_type": "markdown",
   "id": "04251210-bd0e-4680-a988-97e39a786af9",
   "metadata": {},
   "source": [
    "### Import libraries"
   ]
  },
  {
   "cell_type": "code",
   "execution_count": 1,
   "id": "4d6d2251-4b9b-4fa4-a9bd-2014ed11467a",
   "metadata": {},
   "outputs": [],
   "source": [
    "#import required packages\n",
    "import os\n",
    "import rasterio\n",
    "from rasterio.merge import merge\n",
    "from rasterio.enums import Resampling\n",
    "from rasterio.io import MemoryFile\n",
    "from rasterio.mask import mask\n",
    "from rasterio.plot import show\n",
    "import matplotlib.pyplot as plt\n",
    "import geopandas as gpd\n",
    "import numpy as np"
   ]
  },
  {
   "cell_type": "markdown",
   "id": "892b298a-b8a0-488a-a8cf-d39f93eeb508",
   "metadata": {},
   "source": [
    "### Load EMIT scences"
   ]
  },
  {
   "cell_type": "code",
   "execution_count": 2,
   "id": "7341aaae-943f-4603-8049-1b3e28512206",
   "metadata": {},
   "outputs": [
    {
     "name": "stdout",
     "output_type": "stream",
     "text": [
      "Total TIFF files found: 3\n"
     ]
    }
   ],
   "source": [
    "# Define the path to the root folder\n",
    "root_folder = r'C:\\Users\\User\\OneDrive - Stellenbosch University\\MAPWAPS\\DataChapter1\\uMzi_ROI\\data\\EMIT\\EMIT_Scenes\\clipped'\n",
    "\n",
    "# Initialize a counter for the number of TIFF files\n",
    "tif_count = 0\n",
    "\n",
    "# Iterate through all the directories and files in the root folder\n",
    "for dirpath, dirnames, filenames in os.walk(root_folder):\n",
    "    # Iterate through the files in the current directory\n",
    "    for filename in filenames:\n",
    "        # Check if the file has a TIFF extension\n",
    "        if filename.endswith('.tif'):\n",
    "            # Increment the counter if it's a TIFF file\n",
    "            tif_count += 1\n",
    "\n",
    "# Print the total count of TIFF files found\n",
    "print(\"Total TIFF files found:\", tif_count)\n"
   ]
  },
  {
   "cell_type": "markdown",
   "id": "795ca6e4-59c6-45c1-b367-4dbc5348d1d4",
   "metadata": {},
   "source": [
    "### Mask no data values"
   ]
  },
  {
   "cell_type": "code",
   "execution_count": 4,
   "id": "53ddcc3b-a529-48ef-8676-6e248d418af4",
   "metadata": {},
   "outputs": [
    {
     "name": "stdout",
     "output_type": "stream",
     "text": [
      "['C:\\\\Users\\\\User\\\\OneDrive - Stellenbosch University\\\\MAPWAPS\\\\DataChapter1\\\\uMzi_ROI\\\\data\\\\EMIT\\\\EMIT_Scenes\\\\clipped\\\\clipped_EMIT_L2A_001_20240308T070913_2406805_011.tif', 'C:\\\\Users\\\\User\\\\OneDrive - Stellenbosch University\\\\MAPWAPS\\\\DataChapter1\\\\uMzi_ROI\\\\data\\\\EMIT\\\\EMIT_Scenes\\\\clipped\\\\clipped_EMIT_L2A_20240229T101956_2406007_017.tif', 'C:\\\\Users\\\\User\\\\OneDrive - Stellenbosch University\\\\MAPWAPS\\\\DataChapter1\\\\uMzi_ROI\\\\data\\\\EMIT\\\\EMIT_Scenes\\\\clipped\\\\clipped_EMIT_L2A_TIF_001_20240229T101944_2406007_016.tif']\n",
      "Processing complete. All TIFF files have been updated with the first 4 and last 4 bands removed and zeros and -9999 masked as NaN.\n"
     ]
    }
   ],
   "source": [
    "# Define the folder containing the TIFF files\n",
    "input_folder = r'C:\\Users\\User\\OneDrive - Stellenbosch University\\MAPWAPS\\DataChapter1\\uMzi_ROI\\data\\EMIT\\EMIT_Scenes\\clipped'\n",
    "output_folder = r'C:\\Users\\User\\OneDrive - Stellenbosch University\\MAPWAPS\\DataChapter1\\uMzi_ROI\\data\\EMIT\\mask'\n",
    "\n",
    "# Get a list of all TIFF files in the input folder\n",
    "tiff_files = [os.path.join(input_folder, file) for file in os.listdir(input_folder) if file.endswith('.TIF') or file.endswith('.tif')]\n",
    "print(tiff_files)\n",
    "\n",
    "# Loop through each TIFF file\n",
    "for tiff_file in tiff_files:\n",
    "    with rasterio.open(tiff_file) as src:\n",
    "        # Read the metadata and update for float32 and NaN\n",
    "        meta = src.meta\n",
    "        meta.update({\"dtype\": 'float32', \"count\": src.count - 8})  # Update dtype to float32 and adjust band count\n",
    "        meta.update({\"nodata\": np.nan})    # Set no-data value to NaN\n",
    "\n",
    "        # Create an array to store the processed data for the selected bands (after removing the first 4 and last 4 bands)\n",
    "        processed_data = np.empty((src.count - 8, src.height, src.width), dtype='float32')\n",
    "\n",
    "        # Loop through the selected bands (removing first 4 and last 4 bands)\n",
    "        for i, band in enumerate(range(4, src.count - 4)):  # Bands 5 to (src.count - 4)\n",
    "            # Read each band\n",
    "            data = src.read(band + 1)  # +1 because bands are 1-based in rasterio\n",
    "\n",
    "            # Create a mask where data == 0 or data == -0.0099999997764826\n",
    "            mask = (data == 0) | (data == -0.0099999997764826)\n",
    "\n",
    "            # Apply the mask, setting zeros and -9999 to NaN\n",
    "            data = np.where(mask, np.nan, data)\n",
    "\n",
    "            # Store the processed band data\n",
    "            processed_data[i] = data\n",
    "\n",
    "        # Prepare output file path\n",
    "        output_file = os.path.join(output_folder, os.path.basename(tiff_file))\n",
    "\n",
    "        # Write the processed data to a new TIFF file\n",
    "        with rasterio.open(output_file, 'w', **meta) as dst:\n",
    "            dst.write(processed_data)\n",
    "\n",
    "print(\"Processing complete. All TIFF files have been updated with the first 4 and last 4 bands removed and zeros and -9999 masked as NaN.\")\n"
   ]
  },
  {
   "cell_type": "markdown",
   "id": "56c09e7e-d705-4034-b21b-dfad6277a6a7",
   "metadata": {},
   "source": [
    "### Mosaic the scences"
   ]
  },
  {
   "cell_type": "code",
   "execution_count": 5,
   "id": "e00a703c-5c26-45a1-99d4-b82ea67639e5",
   "metadata": {},
   "outputs": [
    {
     "name": "stdout",
     "output_type": "stream",
     "text": [
      "Found 3 GeoTIFF files.\n",
      "['C:\\\\Users\\\\User\\\\OneDrive - Stellenbosch University\\\\MAPWAPS\\\\DataChapter1\\\\uMzi_ROI\\\\data\\\\EMIT\\\\mask\\\\clipped_EMIT_L2A_001_20240308T070913_2406805_011.tif', 'C:\\\\Users\\\\User\\\\OneDrive - Stellenbosch University\\\\MAPWAPS\\\\DataChapter1\\\\uMzi_ROI\\\\data\\\\EMIT\\\\mask\\\\clipped_EMIT_L2A_20240229T101956_2406007_017.tif', 'C:\\\\Users\\\\User\\\\OneDrive - Stellenbosch University\\\\MAPWAPS\\\\DataChapter1\\\\uMzi_ROI\\\\data\\\\EMIT\\\\mask\\\\clipped_EMIT_L2A_TIF_001_20240229T101944_2406007_016.tif']\n",
      "Successfully opened 3 GeoTIFF files for mosaicking.\n",
      "Mosaic created successfully with priority given to the third file.\n",
      "Mosaic written to file successfully.\n",
      "Progress done\n"
     ]
    }
   ],
   "source": [
    "# List all GeoTIFF files in the directory and its subdirectories\n",
    "tif_files = []\n",
    "for root, dirs, files in os.walk(output_folder):\n",
    "    for file in files:\n",
    "        if file.lower().endswith('.tif'):\n",
    "            tif_files.append(os.path.join(root, file))\n",
    "\n",
    "print(f\"Found {len(tif_files)} GeoTIFF files.\")\n",
    "print(tif_files)\n",
    "\n",
    "# Prioritize the third file\n",
    "if len(tif_files) >= 3:\n",
    "    # Move the third file to the front\n",
    "    third_file = tif_files.pop(2)  # Remove the third file from its position\n",
    "    tif_files.insert(0, third_file)  # Insert it at the beginning of the list\n",
    "\n",
    "# Open all GeoTIFF files with error handling\n",
    "src_files_to_mosaic = []\n",
    "for tif in tif_files:\n",
    "    try:\n",
    "        src = rasterio.open(tif)\n",
    "        src_files_to_mosaic.append(src)\n",
    "    except rasterio.errors.RasterioIOError as e:\n",
    "        print(f\"Error opening {tif}: {e}\")\n",
    "\n",
    "print(f\"Successfully opened {len(src_files_to_mosaic)} GeoTIFF files for mosaicking.\")\n",
    "\n",
    "# Check if there are any files to mosaic\n",
    "if src_files_to_mosaic:\n",
    "    # Merge the GeoTIFF files, prioritizing data from the (formerly) third file\n",
    "    mosaic, out_trans = merge(src_files_to_mosaic)\n",
    "    print(\"Mosaic created successfully with priority given to the third file.\")\n",
    "\n",
    "    # Create an in-memory Rasterio dataset from the mosaic array\n",
    "    with MemoryFile() as memfile:\n",
    "        with memfile.open(\n",
    "            driver='GTiff',\n",
    "            height=mosaic.shape[1],\n",
    "            width=mosaic.shape[2],\n",
    "            count=mosaic.shape[0],\n",
    "            dtype=mosaic.dtype,\n",
    "            crs=src_files_to_mosaic[0].crs,\n",
    "            transform=out_trans\n",
    "        ) as dataset:\n",
    "            dataset.write(mosaic)\n",
    "\n",
    "            # Output file path for the mosaic\n",
    "            output_path = r'C:\\Users\\User\\OneDrive - Stellenbosch University\\MAPWAPS\\DataChapter1\\uMzi_ROI\\data\\EMIT\\mosaic_2\\EMIT_mosaic2.tif'\n",
    "\n",
    "            # Write the mosaic to a new GeoTIFF file\n",
    "            with rasterio.open(output_path, \"w\", \n",
    "                               driver='GTiff',\n",
    "                               height=mosaic.shape[1],\n",
    "                               width=mosaic.shape[2],\n",
    "                               count=mosaic.shape[0],\n",
    "                               dtype=mosaic.dtype,\n",
    "                               crs=src_files_to_mosaic[0].crs,\n",
    "                               transform=out_trans) as dest:\n",
    "                dest.write(mosaic)\n",
    "            print(\"Mosaic written to file successfully.\")\n",
    "else:\n",
    "    print(\"No valid TIFF files found to mosaic.\")\n",
    "\n",
    "print('Progress done')\n"
   ]
  }
 ],
 "metadata": {
  "kernelspec": {
   "display_name": "Python 3 (ipykernel)",
   "language": "python",
   "name": "python3"
  },
  "language_info": {
   "codemirror_mode": {
    "name": "ipython",
    "version": 3
   },
   "file_extension": ".py",
   "mimetype": "text/x-python",
   "name": "python",
   "nbconvert_exporter": "python",
   "pygments_lexer": "ipython3",
   "version": "3.12.3"
  }
 },
 "nbformat": 4,
 "nbformat_minor": 5
}
