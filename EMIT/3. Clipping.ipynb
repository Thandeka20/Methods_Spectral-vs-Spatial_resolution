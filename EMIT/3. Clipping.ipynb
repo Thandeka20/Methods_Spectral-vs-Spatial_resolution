{
 "cells": [
  {
   "cell_type": "markdown",
   "id": "7f86cf20-3d9f-4619-9f5c-a3b2cf26f359",
   "metadata": {},
   "source": [
    "### Import packages"
   ]
  },
  {
   "cell_type": "code",
   "execution_count": 1,
   "id": "b2e33823-96c0-4aab-a315-ce651969d36b",
   "metadata": {},
   "outputs": [],
   "source": [
    "# Import packages\n",
    "import os\n",
    "import rasterio\n",
    "import fiona\n",
    "from rasterio.mask import mask"
   ]
  },
  {
   "cell_type": "markdown",
   "id": "ae73785f-0d83-4c3e-ac90-6714c2184b66",
   "metadata": {},
   "source": [
    "### Open the images"
   ]
  },
  {
   "cell_type": "code",
   "execution_count": 3,
   "id": "d63daaf1-d45c-43c8-8ed7-79e8b7857292",
   "metadata": {},
   "outputs": [
    {
     "name": "stdout",
     "output_type": "stream",
     "text": [
      "Image 'EMIT_L2A_001_20240308T070913_2406805_011.tif' has 285 bands.\n",
      "Image 'EMIT_L2A_20240229T101956_2406007_017.tif' has 285 bands.\n",
      "Image 'EMIT_L2A_TIF_001_20240229T101944_2406007_016.tif' has 285 bands.\n"
     ]
    }
   ],
   "source": [
    "# Define the directory containing the updated image\n",
    "images_dir = r'D:\\uMzi scene\\data\\EMIT\\EMIT_Scenes'\n",
    "\n",
    "# Loop through each image in the directory\n",
    "for image_file in os.listdir(images_dir):\n",
    "    if image_file.endswith('.TIF') or image_file.endswith('.tif'):  # Check for both upper and lower case extensions\n",
    "       \n",
    "        # Open the image\n",
    "        with rasterio.open(os.path.join(images_dir, image_file)) as img:\n",
    "            # Print the number of bands\n",
    "            print(f\"Image '{image_file}' has {img.count} bands.\")"
   ]
  },
  {
   "cell_type": "markdown",
   "id": "43343327-8fb9-4e73-819e-b3db26327420",
   "metadata": {},
   "source": [
    "### Clip images to ROI"
   ]
  },
  {
   "cell_type": "code",
   "execution_count": 4,
   "id": "7757fe2d-9b45-4e8e-a5e2-435ec655d0bf",
   "metadata": {},
   "outputs": [
    {
     "name": "stdout",
     "output_type": "stream",
     "text": [
      "Image 'EMIT_L2A_001_20240308T070913_2406805_011.tif' has 285 bands.\n",
      "Image 'EMIT_L2A_001_20240308T070913_2406805_011.tif' clipped and saved to 'D:\\uMzi scene\\data\\EMIT\\EMIT_Scenes\\clipped\\clipped_EMIT_L2A_001_20240308T070913_2406805_011.tif'.\n",
      "Image 'EMIT_L2A_20240229T101956_2406007_017.tif' has 285 bands.\n",
      "Image 'EMIT_L2A_20240229T101956_2406007_017.tif' clipped and saved to 'D:\\uMzi scene\\data\\EMIT\\EMIT_Scenes\\clipped\\clipped_EMIT_L2A_20240229T101956_2406007_017.tif'.\n",
      "Image 'EMIT_L2A_TIF_001_20240229T101944_2406007_016.tif' has 285 bands.\n",
      "Image 'EMIT_L2A_TIF_001_20240229T101944_2406007_016.tif' clipped and saved to 'D:\\uMzi scene\\data\\EMIT\\EMIT_Scenes\\clipped\\clipped_EMIT_L2A_TIF_001_20240229T101944_2406007_016.tif'.\n"
     ]
    }
   ],
   "source": [
    "# Define the directory containing the updated images and the ROI shapefile\n",
    "images_dir = r'D:\\uMzi scene\\data\\EMIT\\EMIT_Scenes'\n",
    "umzim_roi = r'C:\\Users\\SkosanaT\\OneDrive - Stellenbosch University\\MAPWAPS\\DataChapter1\\uMzi_ROI\\roi\\ROI.shp'\n",
    "\n",
    "# Create an output folder inside the images directory\n",
    "output_dir = os.path.join(images_dir, 'clipped')\n",
    "# Check if the output directory exists, if not, create it\n",
    "os.makedirs(output_dir, exist_ok=True)\n",
    "\n",
    "# Loop through each image in the images directory\n",
    "for image_file in os.listdir(images_dir):\n",
    "    if image_file.endswith('.TIF') or image_file.endswith('.tif'):  # Check for both upper and lower case extensions\n",
    "        \n",
    "        # Open the image\n",
    "        with rasterio.open(os.path.join(images_dir, image_file)) as img:\n",
    "            # Print the number of bands\n",
    "            print(f\"Image '{image_file}' has {img.count} bands.\")\n",
    "            \n",
    "            # Read the ROI shapefile\n",
    "            with fiona.open(umzim_roi, 'r') as shapefile:\n",
    "                shapes = [feature['geometry'] for feature in shapefile]\n",
    "                \n",
    "                # Clip the image using the ROI shapefile\n",
    "                out_image, out_transform = mask(img, shapes, crop=True)\n",
    "                out_meta = img.meta.copy()\n",
    "                \n",
    "                # Update metadata after clipping\n",
    "                out_meta.update({\n",
    "                    \"driver\": \"GTiff\",\n",
    "                    \"height\": out_image.shape[1],\n",
    "                    \"width\": out_image.shape[2],\n",
    "                    \"transform\": out_transform\n",
    "                })\n",
    "                \n",
    "                # Define the output file path\n",
    "                output_file = os.path.join(output_dir, f\"clipped_{image_file}\")\n",
    "                \n",
    "                # Save the clipped image\n",
    "                with rasterio.open(output_file, \"w\", **out_meta) as dest:\n",
    "                    dest.write(out_image)\n",
    "                    \n",
    "            print(f\"Image '{image_file}' clipped and saved to '{output_file}'.\")\n"
   ]
  }
 ],
 "metadata": {
  "kernelspec": {
   "display_name": "Python 3 (ipykernel)",
   "language": "python",
   "name": "python3"
  },
  "language_info": {
   "codemirror_mode": {
    "name": "ipython",
    "version": 3
   },
   "file_extension": ".py",
   "mimetype": "text/x-python",
   "name": "python",
   "nbconvert_exporter": "python",
   "pygments_lexer": "ipython3",
   "version": "3.12.3"
  }
 },
 "nbformat": 4,
 "nbformat_minor": 5
}
