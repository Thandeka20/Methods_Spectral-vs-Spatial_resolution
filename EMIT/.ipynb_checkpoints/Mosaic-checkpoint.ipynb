{
 "cells": [
  {
   "cell_type": "code",
   "execution_count": 17,
   "id": "4d6d2251-4b9b-4fa4-a9bd-2014ed11467a",
   "metadata": {},
   "outputs": [],
   "source": [
    "#import required functions\n",
    "import os\n",
    "import rasterio\n",
    "from rasterio.merge import merge\n",
    "from rasterio.enums import Resampling\n",
    "from rasterio.plot import show\n",
    "from rasterio.mask import mask\n",
    "from rasterio.plot import show\n",
    "import matplotlib.pyplot as plt\n",
    "import geopandas as gpd\n",
    "from sklearn.ensemble import RandomForestClassifier\n",
    "import numpy as np"
   ]
  },
  {
   "cell_type": "markdown",
   "id": "892b298a-b8a0-488a-a8cf-d39f93eeb508",
   "metadata": {},
   "source": [
    "### RGB tiles"
   ]
  },
  {
   "cell_type": "code",
   "execution_count": 18,
   "id": "7341aaae-943f-4603-8049-1b3e28512206",
   "metadata": {},
   "outputs": [
    {
     "name": "stdout",
     "output_type": "stream",
     "text": [
      "Total TIFF files found: 78\n"
     ]
    }
   ],
   "source": [
    "import os\n",
    "\n",
    "# Define the path to the root folder\n",
    "root_folder = r'C:\\Users\\SkosanaT\\OneDrive - Stellenbosch University\\MAPWAPS\\DataChapter1\\Data\\Imagery\\uMzimAOI\\Aerial_photographs'\n",
    "\n",
    "# Initialize a counter for the number of TIFF files\n",
    "tif_count = 0\n",
    "\n",
    "# Iterate through all the directories and files in the root folder\n",
    "for dirpath, dirnames, filenames in os.walk(root_folder):\n",
    "    # Iterate through the files in the current directory\n",
    "    for filename in filenames:\n",
    "        # Check if the file has a TIFF extension\n",
    "        if filename.endswith('.tif'):\n",
    "            # Increment the counter if it's a TIFF file\n",
    "            tif_count += 1\n",
    "\n",
    "# Print the total count of TIFF files found\n",
    "print(\"Total TIFF files found:\", tif_count)\n"
   ]
  },
  {
   "cell_type": "markdown",
   "id": "56c09e7e-d705-4034-b21b-dfad6277a6a7",
   "metadata": {},
   "source": [
    "### RGB MOSAIC"
   ]
  },
  {
   "cell_type": "code",
   "execution_count": 24,
   "id": "e00a703c-5c26-45a1-99d4-b82ea67639e5",
   "metadata": {},
   "outputs": [
    {
     "name": "stdout",
     "output_type": "stream",
     "text": [
      "Found 78 TIFF files.\n",
      "0...10...20...30...40...50...60...70...80...90...100 - done.\n",
      "\n",
      "VRT created successfully.\n",
      "Output GeoTIFF will be saved to: E:\\Imagery\\Aerial\\aerialphoto.tif\n",
      "Creating output file that is 153548P x 164712L.\n",
      "Processing C:\\Users\\SkosanaT\\OneDrive - Stellenbosch University\\MAPWAPS\\DataChapter1\\Data\\Imagery\\uMzimAOI\\Aerial_photographs\\mosaic.vrt [1/1] : 0...10...20...30...40...50...60...70...80...90...100 - done.\n",
      "\n",
      "GeoTIFF created successfully from VRT and clipped to ROI.\n",
      "GeoTIFF successfully created: E:\\Imagery\\Aerial\\aerialphoto.tif\n"
     ]
    }
   ],
   "source": [
    "import os\n",
    "import subprocess\n",
    "\n",
    "# Input directory\n",
    "input_dir = r'C:\\Users\\SkosanaT\\OneDrive - Stellenbosch University\\MAPWAPS\\DataChapter1\\Data\\Imagery\\uMzimAOI\\Aerial_photographs'\n",
    "\n",
    "roi = r'C:\\Users\\SkosanaT\\OneDrive - Stellenbosch University\\MAPWAPS\\DataChapter1\\Data\\Imagery\\uMzimAOI\\ROI.shp'\n",
    "\n",
    "# List all GeoTIFF files in the directory and its subdirectories\n",
    "tif_files = []\n",
    "for root, dirs, files in os.walk(input_dir):\n",
    "    for file in files:\n",
    "        if file.lower().endswith('.tif'):\n",
    "            tif_files.append(os.path.join(root, file))\n",
    "\n",
    "print(f\"Found {len(tif_files)} TIFF files.\")\n",
    "\n",
    "# Create a text file listing all the GeoTIFF files\n",
    "tif_list_path = os.path.join(input_dir, 'tif_list.txt')\n",
    "with open(tif_list_path, 'w') as f:\n",
    "    for tif in tif_files:\n",
    "        f.write(tif + '\\n')\n",
    "\n",
    "# Path to output VRT file\n",
    "vrt_path = os.path.join(input_dir, 'mosaic.vrt')\n",
    "\n",
    "# Create VRT using gdalbuildvrt\n",
    "result = subprocess.run(['gdalbuildvrt', '-input_file_list', tif_list_path, vrt_path], capture_output=True, text=True)\n",
    "print(result.stdout)\n",
    "if result.returncode != 0:\n",
    "    print(f\"Error in gdalbuildvrt: {result.stderr}\")\n",
    "\n",
    "print(\"VRT created successfully.\")\n",
    "\n",
    "# Ensure the output directory exists\n",
    "output_dir = os.path.dirname(output_path)\n",
    "if not os.path.exists(output_dir):\n",
    "    os.makedirs(output_dir)\n",
    "\n",
    "# Path to the output GeoTIFF file\n",
    "output_path = r'E:\\Imagery\\Aerial\\aerialphoto.tif'\n",
    "print(f\"Output GeoTIFF will be saved to: {output_path}\")\n",
    "\n",
    "# Use gdalwarp to clip the VRT to the ROI and create the final GeoTIFF\n",
    "result = subprocess.run(['gdalwarp', '-cutline', roi, '-crop_to_cutline', '-dstalpha', vrt_path, output_path], capture_output=True, text=True)\n",
    "print(result.stdout)\n",
    "if result.returncode != 0:\n",
    "    print(f\"Error in gdalwarp: {result.stderr}\")\n",
    "\n",
    "print(\"GeoTIFF created successfully from VRT and clipped to ROI.\")\n",
    "\n",
    "# Check if the file was created\n",
    "if os.path.isfile(output_path):\n",
    "    print(f\"GeoTIFF successfully created: {output_path}\")\n",
    "else:\n",
    "    print(f\"GeoTIFF file not found: {output_path}\")\n"
   ]
  },
  {
   "cell_type": "code",
   "execution_count": null,
   "id": "fc7f416c-670b-4321-a85c-b2e4da20b7ca",
   "metadata": {},
   "outputs": [],
   "source": []
  }
 ],
 "metadata": {
  "kernelspec": {
   "display_name": "Python 3 (ipykernel)",
   "language": "python",
   "name": "python3"
  },
  "language_info": {
   "codemirror_mode": {
    "name": "ipython",
    "version": 3
   },
   "file_extension": ".py",
   "mimetype": "text/x-python",
   "name": "python",
   "nbconvert_exporter": "python",
   "pygments_lexer": "ipython3",
   "version": "3.12.4"
  }
 },
 "nbformat": 4,
 "nbformat_minor": 5
}
