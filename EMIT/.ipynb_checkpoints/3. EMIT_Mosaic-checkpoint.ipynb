{
 "cells": [
  {
   "cell_type": "code",
   "execution_count": 1,
   "id": "4d6d2251-4b9b-4fa4-a9bd-2014ed11467a",
   "metadata": {},
   "outputs": [],
   "source": [
    "#import required functions\n",
    "import os\n",
    "import rasterio\n",
    "from rasterio.merge import merge\n",
    "from rasterio.io import MemoryFile\n",
    "from rasterio.mask import mask\n",
    "from rasterio.plot import show\n",
    "import numpy as np"
   ]
  },
  {
   "cell_type": "markdown",
   "id": "892b298a-b8a0-488a-a8cf-d39f93eeb508",
   "metadata": {},
   "source": [
    "### EMIT SCENCES"
   ]
  },
  {
   "cell_type": "code",
   "execution_count": 2,
   "id": "7341aaae-943f-4603-8049-1b3e28512206",
   "metadata": {},
   "outputs": [
    {
     "name": "stdout",
     "output_type": "stream",
     "text": [
      "Total TIFF files found: 3\n"
     ]
    }
   ],
   "source": [
    "# Define the path to the root folder\n",
    "root_folder = r'C:\\Users\\SkosanaT\\OneDrive - Stellenbosch University\\MAPWAPS\\DataChapter1\\uMzi_ROI\\data\\EMIT\\03092024_EMIT\\clipped'\n",
    "\n",
    "# Initialize a counter for the number of TIFF files\n",
    "tif_count = 0\n",
    "\n",
    "# Iterate through all the directories and files in the root folder\n",
    "for dirpath, dirnames, filenames in os.walk(root_folder):\n",
    "    # Iterate through the files in the current directory\n",
    "    for filename in filenames:\n",
    "        # Check if the file has a TIFF extension\n",
    "        if filename.endswith('.tif'):\n",
    "            # Increment the counter if it's a TIFF file\n",
    "            tif_count += 1\n",
    "\n",
    "# Print the total count of TIFF files found\n",
    "print(\"Total TIFF files found:\", tif_count)\n"
   ]
  },
  {
   "cell_type": "markdown",
   "id": "795ca6e4-59c6-45c1-b367-4dbc5348d1d4",
   "metadata": {},
   "source": [
    "### Mask out zeros to nan values"
   ]
  },
  {
   "cell_type": "code",
   "execution_count": 3,
   "id": "b6f5a43d-99f4-4e02-9178-0aa54d010d6a",
   "metadata": {},
   "outputs": [
    {
     "name": "stdout",
     "output_type": "stream",
     "text": [
      "['C:\\\\Users\\\\SkosanaT\\\\OneDrive - Stellenbosch University\\\\MAPWAPS\\\\DataChapter1\\\\uMzi_ROI\\\\data\\\\EMIT\\\\03092024_EMIT\\\\clipped\\\\clipped_EMIT_L2A_001_20240308T070913_2406805_011.tif', 'C:\\\\Users\\\\SkosanaT\\\\OneDrive - Stellenbosch University\\\\MAPWAPS\\\\DataChapter1\\\\uMzi_ROI\\\\data\\\\EMIT\\\\03092024_EMIT\\\\clipped\\\\clipped_EMIT_L2A_20240229T101956_2406007_017.tif', 'C:\\\\Users\\\\SkosanaT\\\\OneDrive - Stellenbosch University\\\\MAPWAPS\\\\DataChapter1\\\\uMzi_ROI\\\\data\\\\EMIT\\\\03092024_EMIT\\\\clipped\\\\clipped_EMIT_L2A_TIF_001_20240229T101944_2406007_016.tif']\n",
      "Processing complete. All TIFF files have been updated with zeros masked as NaN.\n"
     ]
    }
   ],
   "source": [
    "# Define the output folder\n",
    "output_folder = r'C:\\Users\\SkosanaT\\OneDrive - Stellenbosch University\\MAPWAPS\\DataChapter1\\uMzi_ROI\\data\\EMIT\\03092024_EMIT\\masked'\n",
    "\n",
    "# Get a list of all TIFF files in the input folder\n",
    "tiff_files = [os.path.join(root_folder, file) for file in os.listdir(root_folder) if file.endswith('.TIF') or file.endswith('.tif')]\n",
    "print(tiff_files)\n",
    "\n",
    "# Loop through each TIFF file\n",
    "for tiff_file in tiff_files:\n",
    "    with rasterio.open(tiff_file) as src:\n",
    "        # Read the metadata and update for float32 and NaN\n",
    "        meta = src.meta\n",
    "        meta.update({\"dtype\": 'float32'})  # Update dtype to float32\n",
    "        meta.update({\"nodata\": np.nan})    # Set no-data value to NaN\n",
    "\n",
    "        # Create an array to store the processed data for all bands\n",
    "        processed_data = np.empty((src.count, src.height, src.width), dtype='float32')\n",
    "\n",
    "        # Loop through all bands\n",
    "        for i in range(src.count):  # Loop through each band\n",
    "            # Read each band\n",
    "            data = src.read(i + 1)  # +1 because bands are 1-based in rasterio\n",
    "\n",
    "            # Create a mask where data == 0\n",
    "            mask = (data == 0)\n",
    "\n",
    "            # Apply the mask, setting zeros to NaN\n",
    "            data = np.where(mask, np.nan, data)\n",
    "\n",
    "            # Store the processed band data\n",
    "            processed_data[i] = data\n",
    "\n",
    "        # Prepare output file path\n",
    "        output_file = os.path.join(output_folder, os.path.basename(tiff_file))\n",
    "\n",
    "        # Write the processed data to a new TIFF file\n",
    "        with rasterio.open(output_file, 'w', **meta) as dst:\n",
    "            dst.write(processed_data)\n",
    "\n",
    "print(\"Processing complete. All TIFF files have been updated with zeros masked as NaN.\")\n"
   ]
  },
  {
   "cell_type": "markdown",
   "id": "56c09e7e-d705-4034-b21b-dfad6277a6a7",
   "metadata": {},
   "source": [
    "### EMIT MOSAIC"
   ]
  },
  {
   "cell_type": "code",
   "execution_count": 5,
   "id": "e00a703c-5c26-45a1-99d4-b82ea67639e5",
   "metadata": {},
   "outputs": [
    {
     "name": "stdout",
     "output_type": "stream",
     "text": [
      "Found 3 GeoTIFF files.\n",
      "['C:\\\\Users\\\\SkosanaT\\\\OneDrive - Stellenbosch University\\\\MAPWAPS\\\\DataChapter1\\\\uMzi_ROI\\\\data\\\\EMIT\\\\03092024_EMIT\\\\masked\\\\clipped_EMIT_L2A_001_20240308T070913_2406805_011.tif', 'C:\\\\Users\\\\SkosanaT\\\\OneDrive - Stellenbosch University\\\\MAPWAPS\\\\DataChapter1\\\\uMzi_ROI\\\\data\\\\EMIT\\\\03092024_EMIT\\\\masked\\\\clipped_EMIT_L2A_20240229T101956_2406007_017.tif', 'C:\\\\Users\\\\SkosanaT\\\\OneDrive - Stellenbosch University\\\\MAPWAPS\\\\DataChapter1\\\\uMzi_ROI\\\\data\\\\EMIT\\\\03092024_EMIT\\\\masked\\\\clipped_EMIT_L2A_TIF_001_20240229T101944_2406007_016.tif']\n",
      "Successfully opened 3 GeoTIFF files for mosaicking.\n",
      "Mosaic created successfully with priority given to the first available pixels.\n",
      "Mosaic written to file successfully.\n",
      "Progress done\n"
     ]
    }
   ],
   "source": [
    "# List all GeoTIFF files in the directory and its subdirectories\n",
    "tif_files = []\n",
    "for root, dirs, files in os.walk(output_folder):\n",
    "    for file in files:\n",
    "        if file.lower().endswith('.tif'):\n",
    "            tif_files.append(os.path.join(root, file))\n",
    "\n",
    "print(f\"Found {len(tif_files)} GeoTIFF files.\")\n",
    "print(tif_files)\n",
    "\n",
    "# Open all GeoTIFF files with error handling\n",
    "src_files_to_mosaic = []\n",
    "for tif in tif_files:\n",
    "    try:\n",
    "        src = rasterio.open(tif)\n",
    "        src_files_to_mosaic.append(src)\n",
    "    except rasterio.errors.RasterioIOError as e:\n",
    "        print(f\"Error opening {tif}: {e}\")\n",
    "\n",
    "print(f\"Successfully opened {len(src_files_to_mosaic)} GeoTIFF files for mosaicking.\")\n",
    "\n",
    "# Check if there are any files to mosaic\n",
    "if src_files_to_mosaic:\n",
    "    # Sequentially merge the GeoTIFF files, prioritizing the first available pixels\n",
    "    mosaic, out_trans = merge(src_files_to_mosaic, method='first')\n",
    "    print(\"Mosaic created successfully with priority given to the first available pixels.\")\n",
    "\n",
    "    # Create an in-memory Rasterio dataset from the mosaic array\n",
    "    with MemoryFile() as memfile:\n",
    "        with memfile.open(\n",
    "            driver='GTiff',\n",
    "            height=mosaic.shape[1],\n",
    "            width=mosaic.shape[2],\n",
    "            count=mosaic.shape[0],\n",
    "            dtype=mosaic.dtype,\n",
    "            crs=src_files_to_mosaic[0].crs,\n",
    "            transform=out_trans\n",
    "        ) as dataset:\n",
    "            dataset.write(mosaic)\n",
    "\n",
    "            # Output file path for the mosaic\n",
    "            output_path = r'C:\\Users\\SkosanaT\\OneDrive - Stellenbosch University\\MAPWAPS\\DataChapter1\\uMzi_ROI\\data\\EMIT\\03092024_EMIT\\mosaic\\EMIT20240903_mosaic.tif'\n",
    "\n",
    "            # Update metadata for the mosaic\n",
    "            out_meta = dataset.meta.copy()\n",
    "            out_meta.update({\n",
    "                \"driver\": \"GTiff\",\n",
    "                \"height\": mosaic.shape[1],\n",
    "                \"width\": mosaic.shape[2],\n",
    "                \"transform\": out_trans,\n",
    "                \"crs\": src_files_to_mosaic[0].crs\n",
    "            })\n",
    "\n",
    "            # Write the mosaic to a new GeoTIFF file\n",
    "            with rasterio.open(output_path, \"w\", **out_meta) as dest:\n",
    "                dest.write(mosaic)\n",
    "            print(\"Mosaic written to file successfully.\")\n",
    "else:\n",
    "    print(\"No valid TIFF files found to mosaic.\")\n",
    "\n",
    "print('Progress done')\n",
    "\n"
   ]
  },
  {
   "cell_type": "markdown",
   "id": "67299bbe-7d89-4d4b-94f1-d6e3dcaecd8a",
   "metadata": {},
   "source": [
    "### Filter out bands that cause noise"
   ]
  },
  {
   "cell_type": "code",
   "execution_count": 3,
   "id": "f9ceecfc-bd0a-450a-857b-f6b033351b38",
   "metadata": {},
   "outputs": [
    {
     "name": "stdout",
     "output_type": "stream",
     "text": [
      "Processing complete. The TIFF file has been updated with the specified bands removed and masked values set to NaN.\n"
     ]
    }
   ],
   "source": [
    "import os\n",
    "import rasterio\n",
    "import numpy as np\n",
    "\n",
    "tif_file_path = r'C:\\Users\\SkosanaT\\OneDrive - Stellenbosch University\\MAPWAPS\\DataChapter1\\uMzi_ROI\\data\\EMIT\\03092024_EMIT\\mosaic\\EMIT20240903_mosaic.tif'\n",
    "output_folder = r'C:\\Users\\SkosanaT\\OneDrive - Stellenbosch University\\MAPWAPS\\DataChapter1\\uMzi_ROI\\data\\EMIT\\03092024_EMIT\\filtered'\n",
    "\n",
    "with rasterio.open(tif_file_path) as src:\n",
    "    # Determine the bands to keep (subtract the specified bands)\n",
    "    total_bands = src.count\n",
    "    bands_to_keep = list(range(4, 128)) + list(range(142, 188)) + list(range(213, 282))  # Keep bands after removing specified ranges\n",
    "\n",
    "    # Update metadata for the new band count\n",
    "    meta = src.meta\n",
    "    meta.update({\"dtype\": 'float32', \"count\": len(bands_to_keep)})\n",
    "    meta.update({\"NoData\": np.nan})  # Set no-data value to NaN\n",
    "\n",
    "    # Create an array to store the processed data for the selected bands\n",
    "    processed_data = np.empty((len(bands_to_keep), src.height, src.width), dtype='float32')\n",
    "\n",
    "    # Loop through the bands to keep\n",
    "    for i, band in enumerate(bands_to_keep):\n",
    "        # Read each band (bands are 1-based in rasterio)\n",
    "        data = src.read(band + 1)\n",
    "\n",
    "        # NoData, and None pixel values as NaN\n",
    "        mask = (data == src.nodata) | np.isnan(data)\n",
    "        data = np.where(mask, np.nan, data)\n",
    "\n",
    "        # Store the processed band data\n",
    "        processed_data[i] = data\n",
    "\n",
    "    # Prepare output file path\n",
    "    output_file = os.path.join(output_folder, '20240904_2filtered.tif')\n",
    "\n",
    "    # Write the processed data to a new TIFF file\n",
    "    with rasterio.open(output_file, 'w', **meta) as dst:\n",
    "        dst.write(processed_data)\n",
    "\n",
    "print(\"Processing complete. The TIFF file has been updated with the specified bands removed and masked values set to NaN.\")\n",
    "\n"
   ]
  },
  {
   "cell_type": "code",
   "execution_count": null,
   "id": "67c3950a-4038-438c-922f-286e46a3b046",
   "metadata": {},
   "outputs": [],
   "source": []
  }
 ],
 "metadata": {
  "kernelspec": {
   "display_name": "Python 3 (ipykernel)",
   "language": "python",
   "name": "python3"
  },
  "language_info": {
   "codemirror_mode": {
    "name": "ipython",
    "version": 3
   },
   "file_extension": ".py",
   "mimetype": "text/x-python",
   "name": "python",
   "nbconvert_exporter": "python",
   "pygments_lexer": "ipython3",
   "version": "3.12.3"
  }
 },
 "nbformat": 4,
 "nbformat_minor": 5
}
